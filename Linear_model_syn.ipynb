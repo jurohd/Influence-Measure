{
 "cells": [
  {
   "cell_type": "code",
   "execution_count": 1,
   "metadata": {},
   "outputs": [],
   "source": [
    "import tensorflow.compat.v2 as tf\n",
    "import tensorflow_datasets as tfds\n",
    "from matplotlib import pyplot as plt\n",
    "import seaborn as sns\n",
    "tf.enable_v2_behavior()\n",
    "import numpy as np\n",
    "import lanczos_algorithm"
   ]
  },
  {
   "cell_type": "code",
   "execution_count": 2,
   "metadata": {},
   "outputs": [],
   "source": [
    "from sklearn import datasets\n",
    "from mpl_toolkits.mplot3d import Axes3D\n",
    "import scipy.io\n",
    "from sklearn import datasets, linear_model\n",
    "from sklearn.metrics import mean_squared_error, r2_score\n",
    "\n",
    "\n",
    "synthetic = True\n",
    "\n",
    "if synthetic:\n",
    "    num_samples = 1000\n",
    "    num_features = 70\n",
    "    num_informative = 10\n",
    "\n",
    "\n",
    "\n",
    "    x, y, coef = datasets.make_regression(n_samples=num_samples,      #number of samples\n",
    "                                          n_features=num_features,    #number of features\n",
    "                                          n_informative=num_informative, #number of useful features \n",
    "                                          noise=5,                   #bias and standard deviation of the guassian noise\n",
    "                                          coef=True,                  #true coefficient used to generated the data\n",
    "                                          random_state=0)             #set for same data points for each run\n",
    "\n",
    "    XX = np.interp(x, (x.min(), x.max()), (0, 20))\n",
    "    yy = np.interp(y, (y.min(), y.max()), (0, 20))\n",
    "    \n",
    "    # Split the data into training/testing sets\n",
    "    X = XX[:-100]\n",
    "    X_test = XX[-100:]\n",
    "\n",
    "    # Split the targets into training/testing sets\n",
    "    y = yy[:-100]\n",
    "    y_test = yy[-100:]\n",
    "    \n",
    "    num_samples = 900\n",
    "\n",
    "#     print(x.shape)\n",
    "#     print(y.shape)\n",
    "#     fig = plt.figure()\n",
    "#     ax = fig.add_subplot(111, projection='3d')\n",
    "#     ax.view_init(-155, -20)\n",
    "#     ax.scatter(X[:,0],X[:,1],y)\n",
    "#     plt.show()\n",
    "#     plt.ion() #interactive plot on\n",
    "#     plt.plot(x,y,'.',label='training data')\n",
    "#     plt.xlabel('x');plt.ylabel('y')\n",
    "    \n",
    "    \n",
    "    \n",
    "# else:\n",
    "    \n",
    "#     dataset = \"lympho\"\n",
    "\n",
    "#     # The original lymphography dataset from UCI machine learning repository is a \n",
    "#     # classification dataset. It is a multi-class dataset having four classes, but\n",
    "#     # two of them are quite small (2 and 4 data records). Therefore, those two small \n",
    "#     # classes are merged and considered as outliers compared to other two large \n",
    "#     # classes (81 and 61 data records).\n",
    "#     if dataset == \"lympho\":  \n",
    "#         matA = scipy.io.loadmat('lympho.mat')     \n",
    "        \n",
    "#     if dataset == \"satellite\":\n",
    "#         matA = scipy.io.loadmat('satellite.mat')\n",
    "    \n",
    "#     # The original MNIST dataset of handwritten digits has a training set of 60,000 examples, \n",
    "#     # and a test set of 10,000 examples. It is a subset of a larger set available from MNIST. \n",
    "#     # The digits have been size-normalized and centered in a fixed-size image. This dataset \n",
    "#     # is converted for outlier detection as digit-zero class is considered as inliers, while \n",
    "#     # 700 images are sampled from digit-six class as the outliers. In addition, 100 features \n",
    "#     # are randomly selected from 784 total features.\n",
    "    \n",
    "#     if dataset == \"mnist\":\n",
    "#         matA = scipy.io.loadmat('mnist.mat')\n",
    "#     print(matA)\n",
    "#     X, y = matA['X'], matA['y']\n",
    "#     y= y.flatten()\n",
    "#     print(X.shape) \n",
    "#     print(y)\n",
    "#     num_samples = X.shape[0]\n",
    "#     num_features = y.shape[0]\n",
    "\n",
    "\n",
    "\n",
    "else:\n",
    "    #diabetes dataset\n",
    "\n",
    "    # Load the diabetes dataset\n",
    "    diabetes_X, diabetes_y = datasets.load_diabetes(return_X_y=True)\n",
    "    diabetes_y= diabetes_y.flatten()\n",
    "\n",
    "\n",
    "    # Split the data into training/testing sets\n",
    "    X = diabetes_X[:-20]\n",
    "    X_test = diabetes_X[-20:]\n",
    "\n",
    "    # Split the targets into training/testing sets\n",
    "    y = diabetes_y[:-20]\n",
    "    y_test = diabetes_y[-20:]\n",
    "    print(diabetes_X.shape, diabetes_y.shape)\n",
    "    num_samples = X.shape[0]\n",
    "    num_features = y.shape[0]\n",
    "\n"
   ]
  },
  {
   "cell_type": "code",
   "execution_count": 3,
   "metadata": {},
   "outputs": [],
   "source": [
    "class GradientDescentLinearRegression:\n",
    "    def __init__(self, learning_rate=1e-5, iterations=10000):\n",
    "        \n",
    "        self.__lr, self.itr = learning_rate, iterations\n",
    "    \n",
    "    def fit(self, X, y):\n",
    "        n,d = X.shape[0],X.shape[1]\n",
    "        self.b = 0\n",
    "        self.w = np.zeros(d)\n",
    "        self.w.fill(2)\n",
    "\n",
    "        for _ in range(self.itr):\n",
    "            \n",
    "#             print(X.shape,self.w.shape)\n",
    "            h = X@self.w + self.b\n",
    "            dw =  X.T@ (h-y)  / n\n",
    "            db = np.sum(h-y)  / n\n",
    "            self.w = self.w - self.__lr*dw\n",
    "            self.b = self.b - self.__lr*db\n",
    "        \n",
    "    def predict(self, X):\n",
    "        return X@self.w + self.b\n",
    "    \n",
    "\n",
    "clf = GradientDescentLinearRegression()\n",
    "# print(X.shape)\n",
    "# print(y.shape)\n",
    "clf.fit(X, y)\n",
    "\n",
    "# import matplotlib.pyplot as plt\n",
    "\n",
    "# fig = plt.figure()\n",
    "\n",
    "# ax = fig.add_subplot(111, projection='3d')\n",
    "\n",
    "# minX = min(np.min(X[:,0]), np.min(X[:,1]))\n",
    "# maxX = min(np.max(X[:,0]), np.max(X[:,1]))\n",
    "\n",
    "\n",
    "# tmp = np.linspace(minX,maxX,50)\n",
    "# x1, x2 = np.meshgrid(tmp,tmp)\n",
    "# x1=x1.flatten()\n",
    "# x2=x2.flatten()\n",
    "# print(x1[0],x2[0])\n",
    "# print(x1.shape,x2.shape)\n",
    "# y_pred = []\n",
    "# for i in range(x1.shape[0]):\n",
    "#     y_pred.append(clf.predict([x1[i],x2[i]]))\n",
    "# y_pred = np.array(y_pred)\n",
    "# print(y_pred.shape)\n",
    "# print(X[:,0].shape,X[:,1].shape,y.shape)\n",
    "\n",
    "# ax.scatter(X[:,0],X[:,1],y,color='g')\n",
    "# ax.scatter(x1,x2, y_pred, alpha = 0.05,color='r')\n",
    "# ax.view_init(-155, -20)\n",
    "# plt.show()\n"
   ]
  },
  {
   "cell_type": "code",
   "execution_count": 4,
   "metadata": {},
   "outputs": [
    {
     "name": "stdout",
     "output_type": "stream",
     "text": [
      "[7.16886354e+06 6.95154947e+03 6.69595378e+03 6.64279035e+03\n",
      " 6.47809732e+03 6.30895870e+03 6.21522292e+03 6.18598069e+03\n",
      " 2.28485463e+03 2.31766567e+03 5.95889247e+03 5.88305011e+03\n",
      " 5.90522644e+03 5.77762117e+03 5.74234476e+03 5.66944251e+03\n",
      " 5.49745001e+03 5.47506129e+03 5.37564999e+03 5.28502487e+03\n",
      " 5.22432341e+03 5.19609198e+03 2.56815971e+03 2.59816050e+03\n",
      " 5.10510168e+03 2.68788359e+03 2.70366174e+03 2.76649670e+03\n",
      " 2.79452018e+03 2.81913469e+03 2.90429167e+03 2.91590998e+03\n",
      " 2.95464876e+03 5.05121295e+03 4.96848446e+03 4.88356866e+03\n",
      " 4.87907903e+03 3.07823295e+03 3.10863593e+03 3.13748406e+03\n",
      " 4.76146374e+03 4.70343615e+03 4.64900805e+03 4.54367384e+03\n",
      " 4.53875985e+03 4.50338853e+03 3.23758423e+03 3.29297978e+03\n",
      " 3.33189484e+03 3.37753149e+03 3.40909249e+03 3.47380654e+03\n",
      " 4.37209602e+03 4.34004406e+03 4.29514328e+03 4.27617761e+03\n",
      " 4.20034736e+03 3.59394801e+03 4.11195991e+03 4.08774202e+03\n",
      " 3.63789481e+03 3.66615597e+03 3.71437117e+03 3.74397002e+03\n",
      " 3.77945158e+03 3.80268904e+03 3.87780869e+03 4.02320051e+03\n",
      " 3.95037793e+03 3.96564887e+03]\n"
     ]
    },
    {
     "data": {
      "text/plain": [
       "[<matplotlib.lines.Line2D at 0x156f1f438>]"
      ]
     },
     "execution_count": 4,
     "metadata": {},
     "output_type": "execute_result"
    },
    {
     "data": {
      "image/png": "[encoded data removed]",
      "text/plain": [
       "<Figure size 432x288 with 1 Axes>"
      ]
     },
     "metadata": {
      "needs_background": "light"
     },
     "output_type": "display_data"
    }
   ],
   "source": [
    "from scipy.sparse.linalg.eigen.arpack import eigsh as largest_eigsh\n",
    "\n",
    "H = X.T@X\n",
    "# print(H)\n",
    "\n",
    "w,v = np.linalg.eig(H)\n",
    "# print(v*w@v.T-H)\n",
    "print(w)\n",
    "H_til=H/w[0]\n",
    "\n",
    "num_eigen = np.linspace(0,len(w),len(w))\n",
    "plt.plot(num_eigen,w)\n"
   ]
  },
  {
   "cell_type": "code",
   "execution_count": 5,
   "metadata": {},
   "outputs": [
    {
     "name": "stdout",
     "output_type": "stream",
     "text": [
      "0.041604581329150306\n"
     ]
    },
    {
     "data": {
      "text/plain": [
       "[<matplotlib.lines.Line2D at 0x157101a90>]"
      ]
     },
     "execution_count": 5,
     "metadata": {},
     "output_type": "execute_result"
    },
    {
     "data": {
      "image/png": "[encoded data removed]",
      "text/plain": [
       "<Figure size 432x288 with 1 Axes>"
      ]
     },
     "metadata": {
      "needs_background": "light"
     },
     "output_type": "display_data"
    }
   ],
   "source": [
    "#low pass filter\n",
    "w_til, v_til= np.linalg.eig(H_til)\n",
    "# print(w_til)\n",
    "energysum = np.sum(w_til[1:])\n",
    "print(energysum)\n",
    "for i in range(len(w_til)):\n",
    "    if w_til[i]>energysum*0.2:\n",
    "        w_til[i]= 0\n",
    "    else:\n",
    "        w_til[i]= 1\n",
    "plt.plot(num_eigen,w_til)"
   ]
  },
  {
   "cell_type": "code",
   "execution_count": 6,
   "metadata": {},
   "outputs": [],
   "source": [
    "import math\n",
    "\n",
    "def compute_moments(A, v, deg):\n",
    "    Amv = np.zeros((len(v), deg+1))\n",
    "    for i in range(deg+1):\n",
    "        if i == 0:\n",
    "            Amv[:, i] = v\n",
    "        else:\n",
    "            Amv[:, i] = np.dot(A, Amv[:, i-1])\n",
    "\n",
    "    return np.dot(v, Amv)\n",
    "\n",
    "\n",
    "def compute_Chebyshev_moments(x):\n",
    "    deg = len(x)\n",
    "    Tk = np.zeros(deg)\n",
    "    for k in range(deg):\n",
    "        if k == 0:\n",
    "            Tk[k] = 1\n",
    "        elif k == 1:\n",
    "            Tk[k] = x[k]\n",
    "        else:\n",
    "            for j in range(int(np.floor(k/2))+1):\n",
    "                akj = (comb(2*j, j)*comb(k, 2*j)) / comb(k-1, j)\n",
    "                Tk[k] = Tk[k] +\\\n",
    "                    ((-1)**j)*((2**(k-2*j-1))*(akj*x[k-2*j]))\n",
    "    return Tk\n",
    "\n",
    "\n",
    "def Chebyshev_step(deg, eps, damp):\n",
    "    alpha1 = eps\n",
    "    alpha2 = 1\n",
    "    thetJ = math.pi/(deg+2)\n",
    "    thetL = math.pi/(deg+1)\n",
    "    a1 = 1/(deg+2)\n",
    "    a2 = math.sin(thetJ)\n",
    "    beta1 = math.acos(alpha1)\n",
    "    beta2 = math.acos(alpha2)\n",
    "    mu = np.zeros(deg+1)\n",
    "    for k in range(deg+1):\n",
    "        if damp == 0:\n",
    "            jac = 1\n",
    "        elif damp == 1:\n",
    "            jac = a1*math.sin((k+1)*thetJ)/a2 + \\\n",
    "                (1-(k+1)*a1)*math.cos(k*thetJ)\n",
    "        elif damp == 2:\n",
    "            jac = 1\n",
    "            if (k > 0):\n",
    "                jac = math.sin(k*thetL)/(k*thetL)\n",
    "\n",
    "        if k == 0:\n",
    "            mu[k] = -jac*(beta2-beta1)/math.pi\n",
    "        else:\n",
    "            mu[k] = -2*jac*(\n",
    "                math.sin(k*beta2)-math.sin(k*beta1))/(math.pi*k)\n",
    "\n",
    "    return mu\n",
    "\n",
    "# a = Chebyshev_step(3, 0.1, 1)\n",
    "# print(a)"
   ]
  },
  {
   "cell_type": "code",
   "execution_count": 7,
   "metadata": {},
   "outputs": [],
   "source": [
    "from scipy.special import comb\n",
    "from numpy import linalg as LA\n",
    "\n",
    "S_H = v_til*w_til@v_til.T\n",
    "# print(X.shape)\n",
    "\n",
    "influence_x_H_inv = []\n",
    "influence_x_SH = []\n",
    "influence_x_Cheb = []\n",
    "\n",
    "\n",
    "deg = 15\n",
    "damp = 2\n",
    "eps = 0.001\n",
    "for i in range(num_samples):\n",
    "    xi = []\n",
    "    for j in range(X.shape[1]):\n",
    "        xi.append(X[i][j])\n",
    "    xi = np.array(xi)\n",
    "    h = clf.predict(xi)\n",
    "#     print(h)\n",
    "    dli = -(y[i]-h)*xi\n",
    "#     print(dli.shape,S_H.shape)\n",
    "\n",
    "    #chebyshev step\n",
    "    mom = compute_moments(S_H, dli, deg)\n",
    "    cheb_mom = compute_Chebyshev_moments(mom)\n",
    "    mu = Chebyshev_step(deg, eps, damp)\n",
    "    approx = mu@cheb_mom\n",
    "\n",
    "    influence_x_Cheb.append(approx)\n",
    "    influence_x_H_inv.append(dli@np.linalg.inv(H)@dli)\n",
    "    influence_x_SH.append(dli@S_H@dli)\n",
    "    \n",
    "# print(influence_x_H_inv/np.sum(influence_x_H_inv))\n",
    "# print(influence_x_SH/np.sum(influence_x_SH))\n",
    "x_axis = np.linspace(0,num_samples,num_samples)\n",
    "\n",
    "\n",
    "p_H_inv = influence_x_H_inv/np.sum(influence_x_H_inv)\n",
    "p_S_H = influence_x_SH/np.sum(influence_x_SH)\n",
    "p_Cheb_H = influence_x_Cheb/np.sum(influence_x_Cheb)\n",
    "\n",
    "ind_Hinv = np.argsort(p_H_inv)[::-1]\n",
    "ind_S_H = np.argsort(p_S_H)[::-1]\n",
    "ind_Cheb_H = np.argsort(p_Cheb_H)[::-1]\n",
    "\n",
    "subsamp_per = 0.2\n",
    "subsamp_num = int(num_samples*subsamp_per)\n",
    "ind_Hinv_sub =  ind_Hinv[:subsamp_num]\n",
    "ind_S_H_sub =  ind_S_H[:subsamp_num]\n",
    "ind_Cheb_H_sub = ind_Cheb_H[:subsamp_num]\n",
    "\n",
    "\n",
    "ind_Hinv_sub_s =  ind_Hinv[subsamp_num:]\n",
    "ind_S_H_sub_s =  ind_S_H[subsamp_num:]\n",
    "ind_Cheb_H_sub_s = ind_Cheb_H[subsamp_num:]\n",
    "\n",
    "\n",
    "\n"
   ]
  },
  {
   "cell_type": "code",
   "execution_count": 8,
   "metadata": {},
   "outputs": [
    {
     "data": {
      "image/png": "[encoded data removed]",
      "text/plain": [
       "<Figure size 432x288 with 1 Axes>"
      ]
     },
     "metadata": {
      "needs_background": "light"
     },
     "output_type": "display_data"
    },
    {
     "name": "stdout",
     "output_type": "stream",
     "text": [
      "176 / 184\n",
      "0.9565217391304348\n"
     ]
    }
   ],
   "source": [
    "relative_pi = []\n",
    "for i in range(len(x_axis)):\n",
    "    relative_pi.append((p_S_H[i]-p_H_inv[i])/p_H_inv[i])\n",
    "# plt.plot(x_axis, p_H_inv, label=\"h_inv\")\n",
    "# plt.plot(x_axis, p_S_H,c='r', label=\"S(H)\")\n",
    "# plt.legend()\n",
    "plt.scatter(x_axis,relative_pi, label='relative pi')\n",
    "plt.show()\n",
    "\n",
    "print(len(np.intersect1d(ind_Hinv_sub,ind_S_H_sub)),'/',len(np.union1d(ind_Hinv_sub,ind_S_H_sub)))\n",
    "print(len(np.intersect1d(ind_Hinv_sub,ind_S_H_sub))/len(np.union1d(ind_Hinv_sub,ind_S_H_sub)))\n",
    "\n",
    "\n"
   ]
  },
  {
   "cell_type": "code",
   "execution_count": 9,
   "metadata": {},
   "outputs": [
    {
     "data": {
      "image/png": "[encoded data removed]",
      "text/plain": [
       "<Figure size 432x288 with 1 Axes>"
      ]
     },
     "metadata": {
      "needs_background": "light"
     },
     "output_type": "display_data"
    },
    {
     "name": "stdout",
     "output_type": "stream",
     "text": [
      "178 / 182\n",
      "0.978021978021978\n"
     ]
    }
   ],
   "source": [
    "relative_pi = []\n",
    "for i in range(len(x_axis)):\n",
    "    relative_pi.append((p_Cheb_H[i]-p_S_H[i])/p_S_H[i])\n",
    "    \n",
    "# plt.plot(x_axis, p_S_H,c='r', label=\"S(H)\")\n",
    "# plt.plot(x_axis, p_Cheb_H,c = 'g', label=\"P_cheb(H)\")\n",
    "# plt.legend()\n",
    "plt.scatter(x_axis,relative_pi, label='relative pi')\n",
    "plt.show()\n",
    "\n",
    "print(len(np.intersect1d(ind_Cheb_H_sub,ind_S_H_sub)),'/',len(np.union1d(ind_Cheb_H_sub,ind_S_H_sub)))\n",
    "print(len(np.intersect1d(ind_Cheb_H_sub,ind_S_H_sub))/len(np.union1d(ind_Cheb_H_sub,ind_S_H_sub)))\n",
    "\n",
    "\n",
    "\n"
   ]
  },
  {
   "cell_type": "code",
   "execution_count": 10,
   "metadata": {},
   "outputs": [
    {
     "data": {
      "image/png": "[encoded data removed]",
      "text/plain": [
       "<Figure size 432x288 with 1 Axes>"
      ]
     },
     "metadata": {
      "needs_background": "light"
     },
     "output_type": "display_data"
    }
   ],
   "source": [
    "\n",
    "plt.plot(x_axis, p_H_inv, label=\"h_inv\")\n",
    "plt.plot(x_axis, p_S_H, label=\"S(H)\")\n",
    "plt.plot(x_axis, p_Cheb_H, label=\"P_cheb(H)\")\n",
    "plt.legend()\n",
    "plt.show()\n",
    "\n",
    "\n"
   ]
  },
  {
   "cell_type": "code",
   "execution_count": 360,
   "metadata": {},
   "outputs": [
    {
     "name": "stdout",
     "output_type": "stream",
     "text": [
      "---full---Mean squared error: 5.87\n",
      "---Hinv---Mean squared error: 7.79\n",
      "---SH---Mean squared error: 7.74\n",
      "---PH---Mean squared error: 7.77\n"
     ]
    }
   ],
   "source": [
    "y_pred = clf.predict(X_test)\n",
    "\n",
    "clf_Hinv = GradientDescentLinearRegression()\n",
    "clf_SH = GradientDescentLinearRegression()\n",
    "clf_PH = GradientDescentLinearRegression()\n",
    "\n",
    "clf_Hinv.fit(X[ind_Hinv_sub_s],y[ind_Hinv_sub_s])\n",
    "clf_SH.fit(X[ind_S_H_sub_s],y[ind_S_H_sub_s])\n",
    "clf_PH.fit(X[ind_Cheb_H_sub_s],y[ind_Cheb_H_sub_s])\n",
    "\n",
    "\n",
    "y_pred_Hinv = clf_Hinv.predict(X_test)\n",
    "y_pred_SH = clf_SH.predict(X_test)\n",
    "y_pred_PH = clf_PH.predict(X_test)\n",
    "\n",
    "# The mean squared error\n",
    "print('---full---Mean squared error: %.2f'\n",
    "      % mean_squared_error(y_test, y_pred))\n",
    "print('---Hinv---Mean squared error: %.2f'\n",
    "      % mean_squared_error(y_test, y_pred_Hinv))\n",
    "print('---SH---Mean squared error: %.2f'\n",
    "      % mean_squared_error(y_test, y_pred_SH))\n",
    "print('---PH---Mean squared error: %.2f'\n",
    "      % mean_squared_error(y_test, y_pred_PH))\n",
    "\n",
    "# # The coefficient of determination: 1 is perfect prediction\n",
    "# print('Coefficient of determination: %.2f'\n",
    "#       % r2_score(diabetes_y_test, diabetes_y_pred))\n",
    "\n"
   ]
  },
  {
   "cell_type": "code",
   "execution_count": null,
   "metadata": {},
   "outputs": [],
   "source": [
    "import jax.density as density_lib\n",
    "\n",
    "def plot(grids, density, label=None):\n",
    "  plt.semilogy(grids, density, label=label)\n",
    "  plt.ylim(1e-10, 1e2)\n",
    "  plt.ylabel(\"Density\")\n",
    "  plt.xlabel(\"Eigenvalue\")\n",
    "  plt.legend()\n",
    "\n",
    "density, grids = density_lib.tridiag_to_density(\n",
    "    [T.numpy()], grid_len=10000, sigma_squared=1e-3)\n",
    "\n",
    "plot(grids, density)"
   ]
  },
  {
   "cell_type": "code",
   "execution_count": null,
   "metadata": {},
   "outputs": [],
   "source": []
  }
 ],
 "metadata": {
  "kernelspec": {
   "display_name": "Python 3",
   "language": "python",
   "name": "python3"
  },
  "language_info": {
   "codemirror_mode": {
    "name": "ipython",
    "version": 3
   },
   "file_extension": ".py",
   "mimetype": "text/x-python",
   "name": "python",
   "nbconvert_exporter": "python",
   "pygments_lexer": "ipython3",
   "version": "3.7.3"
  }
 },
 "nbformat": 4,
 "nbformat_minor": 5
}
